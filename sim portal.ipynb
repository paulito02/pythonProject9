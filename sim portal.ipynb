{
 "cells": [
  {
   "cell_type": "code",
   "execution_count": 1,
   "metadata": {},
   "outputs": [],
   "source": [
    "# oop\n",
    "class PlayerCharacter:\n",
    "#     class object attribute\n",
    "    membership = True    \n",
    "    def __init__(self, name, age):\n",
    "        if (self.membership):\n",
    "            self.name = name \n",
    "            self.age = age\n",
    "        \n",
    "    def run(self):\n",
    "        print(f'my name is {self.name}')\n",
    "        "
   ]
  },
  {
   "cell_type": "code",
   "execution_count": 2,
   "metadata": {},
   "outputs": [
    {
     "name": "stdout",
     "output_type": "stream",
     "text": [
      "cindy 34\n",
      "john 42\n"
     ]
    }
   ],
   "source": [
    "player1 = PlayerCharacter('cindy',34)\n",
    "player2 = PlayerCharacter('john',42)\n",
    "print(player1.name, player1.age)\n",
    "print(player2.name, player2.age)"
   ]
  },
  {
   "cell_type": "code",
   "execution_count": 3,
   "metadata": {},
   "outputs": [
    {
     "name": "stdout",
     "output_type": "stream",
     "text": [
      "my name is cindy\n",
      "None\n"
     ]
    }
   ],
   "source": [
    "print(player1.run())"
   ]
  },
  {
   "cell_type": "code",
   "execution_count": 4,
   "metadata": {},
   "outputs": [
    {
     "name": "stdout",
     "output_type": "stream",
     "text": [
      "             player 1\n",
      "name: john\n",
      "age: 23\n",
      "             player 2\n",
      "name: hope\n",
      "age: 35\n"
     ]
    }
   ],
   "source": [
    "# oop\n",
    "class PlayerCharacter:\n",
    "#     class object attribute\n",
    "  \n",
    "    def __init__(self, name, age):\n",
    "        \n",
    "            self.name = name \n",
    "            if (age > 18):\n",
    "                self.age = age\n",
    "            else:\n",
    "                print(\"not up to age\")\n",
    "        \n",
    "    def run(self):\n",
    "        print(f'my name is {self.name}')\n",
    "        \n",
    "print(\"             player 1\")        \n",
    "player1 = PlayerCharacter(input('name: '),int(input('age: ')))\n",
    "\n",
    "print(\"             player 2\")                            \n",
    "player2 = PlayerCharacter(input('name: '),int(input('age: ')))\n",
    "\n"
   ]
  },
  {
   "cell_type": "code",
   "execution_count": null,
   "metadata": {},
   "outputs": [],
   "source": [
    "pin = input('input 4 digit pin you will like to use for your sim card')\n",
    "\n",
    "if len(pin) == 4:\n",
    "    print (\"welcome\")\n",
    "    \n",
    "else:\n",
    "    print(\"your input has to been 4 digit\")\n",
    "\n",
    "    \n",
    "email = input(\"input your email\")\n",
    "if len(pin) == 4:\n",
    "    print(\"4 digit pin successfully set\")\n",
    "    print(\"keep it save\")\n",
    "else:\n",
    "    print(pin)\n",
    "print(\"your puk number is : \")\n",
    "from random import randrange\n",
    "for i in range(0, 8):   # produce 8 digit number\n",
    "    \n",
    "    puk = randrange(0, 10)  # generate random number in the range 1....6\n",
    "    print(puk,end='')\n",
    "print(' ')\n",
    "pin_attempts = 4\n",
    "puk_attempts = 8\n",
    "pin_count = 0\n",
    "puk_count = 0\n",
    "user_input = \" \"\n",
    "\n",
    "while user_input != pin and pin_count < pin_attempts:\n",
    "    user_input = input(\"please enter your 4 digit pin : \")\n",
    "    pin_count += 1\n",
    "    remaining_attempts =str (pin_attempts - pin_count)\n",
    "    if user_input == str(pin):\n",
    "        print(\"✔ correct\" \"welcome\")\n",
    "        break\n",
    "    elif user_input != pin and pin_count < pin_attempts:\n",
    "        print(\"× incorrect pin please try again\")\n",
    "        print(\"you have \" + remaining_attempts + \" attempt(s) left\")\n",
    "        if pin_count == 3:\n",
    "            print(\"you have 1 more chance or else you pin will be blocked😯\")\n",
    "        else:\n",
    "            continue\n",
    "    else:\n",
    "        print(\"your pin has been blocked!\")\n",
    "#  to unblock the pin        \n",
    "while user_input != puk and puk_count < puk_attempts:\n",
    "    user_input=input(\"input your puk number\")\n",
    "    puk_count += 1\n",
    "    remaining_attempts = str(puk_attempts - puk_count)\n",
    "    if user_input == puk:\n",
    "         print(\"✔ correct\"\"your line has be unblocked\")\n",
    "         break\n",
    "    elif user_input != puk and puk_count < puk_attempts:\n",
    "         print(\"incorrect, please try again \")\n",
    "         print(\"you have \" + remaining_attempts + \"attempt(s) left\")\n",
    "         if puk_count == 7:\n",
    "            print(\"you have 1 more chance or else you pin will be blocked😯\")\n",
    "    else:\n",
    "        print(\"your sim has been blocked\")\n",
    "\n",
    "        print(\"will you like to reset your password?\")\n",
    "        a=input()\n",
    "        c='yes'\n",
    "        if a ==c:\n",
    "            b=(input(\"input your recovery email :\"))\n",
    "            if b == email:\n",
    "                print(\"input your new pin\")\n",
    "                b=input()\n",
    "                print(\"comfirm your new pin\")\n",
    "                b=input()\n",
    "                pin=str(pin.append(b))\n",
    "        else:\n",
    "            print (\"visit the nearest branch to fix the issue\")\n"
   ]
  },
  {
   "cell_type": "code",
   "execution_count": null,
   "metadata": {},
   "outputs": [],
   "source": [
    "class PlayerCharacter:\n",
    "    def __init__(self, name, age):\n",
    "        self.name = name\n",
    "        self.age = age\n",
    "        \n",
    "    def run(self):\n",
    "        print(\"run\")\n",
    "        \n",
    "        \n",
    "    def speak(self):\n",
    "        print(f'my name is {self.name}, and i am {self.age} years old')"
   ]
  },
  {
   "cell_type": "code",
   "execution_count": null,
   "metadata": {},
   "outputs": [],
   "source": [
    "user1 = PlayerCharacter('john',100)"
   ]
  },
  {
   "cell_type": "code",
   "execution_count": null,
   "metadata": {},
   "outputs": [],
   "source": [
    "user1.speak()"
   ]
  },
  {
   "cell_type": "code",
   "execution_count": null,
   "metadata": {},
   "outputs": [],
   "source": [
    "p='hello'\n",
    "c='come'\n",
    "print(p.replace('',c))\n",
    "print(p)"
   ]
  },
  {
   "cell_type": "code",
   "execution_count": null,
   "metadata": {},
   "outputs": [],
   "source": [
    "pin = input('how old are you')\n",
    "# pin.count()\n",
    "if len(pin) == 4:\n",
    "    print (\"welcome\")\n",
    "    \n",
    "else:\n",
    "    print(\"your input has to been 4 digit\")"
   ]
  },
  {
   "cell_type": "code",
   "execution_count": null,
   "metadata": {},
   "outputs": [],
   "source": [
    "pin = input('input 4 digit pin you will like to use for your sim card')\n",
    "\n",
    "# while True:\n",
    "#     if len(pin) != 4:\n",
    "#         print(\"your input has to been 4 digit\")\n",
    "#         break\n",
    "#     else:\n",
    "#         print(\"welcome\")\n",
    "\n",
    "\n",
    "if len(pin) == 4:\n",
    "    print(\"4 digit pin successfully set\")\n",
    "    print(\"keep it save\")\n",
    "else:\n",
    "    print(pin)\n",
    "    \n",
    "email = input(\"input your email\")\n",
    "from random import randrange\n",
    "\n",
    "for i in range(0, 8):  # produce 8 digit number\n",
    "    puk = randrange(1, 10)  # generate random number in the range 1....6\n",
    "\n",
    "    print(puk, end=\"\")\n",
    "print('')\n",
    "pin_attempts = 4\n",
    "puk_attempts = 8\n",
    "pin_count = 0\n",
    "puk_count = 0\n",
    "user_input = \" \"\n",
    "\n",
    "while user_input != pin and pin_count < pin_attempts:\n",
    "    user_input = input(\"please enter your 4 digit pin : \")\n",
    "    pin_count += 1\n",
    "    remaining_attempts = str(pin_attempts - pin_count)\n",
    "    if user_input == str(pin):\n",
    "        print(\"✔ correct\" \"welcome\")\n",
    "        break\n",
    "    elif user_input != pin and pin_count < pin_attempts:\n",
    "        print(\"× incorrect pin please try again\")\n",
    "        print(\"you have \" + remaining_attempts + \" attempt(s) left\")\n",
    "        if pin_count == 3:\n",
    "            print(\"you have 1 more chance or else you pin will be blocked😯\")\n",
    "        else:\n",
    "            continue\n",
    "    else:\n",
    "        print(\"your pin has been blocked!\")\n",
    "#  to unblock the pin\n",
    "while user_input != puk and puk_count < puk_attempts:\n",
    "    user_input = input(\"input your puk number\")\n",
    "    puk_count += 1\n",
    "    remaining_attempts = str(puk_attempts - puk_count)\n",
    "    if user_input == puk:\n",
    "        print(\"✔ correct\"\"your line has be unblocked\")\n",
    "        break\n",
    "    elif user_input != puk and puk_count < puk_attempts:\n",
    "        print(\"incorrect, please try again \")\n",
    "        print(\"you have \" + remaining_attempts + \"attempt(s) left\")\n",
    "        if puk_count == 7:\n",
    "            print(\"you have 1 more chance or else you pin will be blocked😯\")\n",
    "    else:\n",
    "        print(\"your sim has been blocked\")\n",
    "\n",
    "        print(\"will you like to reset your password?\")\n",
    "        a = input()\n",
    "        c = 'yes'\n",
    "        if a == c:\n",
    "            b = (input(\"input your recovery email :\"))\n",
    "            if b == email:\n",
    "                print(\"input your new pin\")\n",
    "                b = input()\n",
    "                print(\"comfirm your new pin\")\n",
    "                b = input()\n",
    "                pin = str(pin.append(b))\n",
    "        else:\n",
    "            print(\"visit the nearest branch to fix the issue\")\n"
   ]
  },
  {
   "cell_type": "code",
   "execution_count": null,
   "metadata": {},
   "outputs": [],
   "source": [
    "pin = input('input 4 digit pin you will like to use for your sim card')\n",
    "\n",
    "# while True:\n",
    "#     if len(pin) != 4:\n",
    "#         print(\"your input has to been 4 digit\")\n",
    "#         break\n",
    "#     else:\n",
    "#         print(\"welcome\")\n",
    "\n",
    "len(pin)=4\n",
    "\n",
    "if len(pin) :\n",
    "     print(pin)\n",
    "else:\n",
    "    print(\"4 digit pin successfully set\")\n",
    "    print(\"keep it save\")"
   ]
  },
  {
   "cell_type": "code",
   "execution_count": null,
   "metadata": {},
   "outputs": [],
   "source": [
    "print('what is your pin')\n",
    "    a=input()\n",
    "    if len(a)!=4:\n",
    "        print(\"you are welcome\")\n",
    "    else:\n",
    "        print (\"access denied\")\n",
    "        "
   ]
  },
  {
   "cell_type": "code",
   "execution_count": null,
   "metadata": {},
   "outputs": [
    {
     "name": "stdout",
     "output_type": "stream",
     "text": [
      "input 4 digit pin you will like to use for your password\n",
      "123\n",
      "123\n",
      "your pin must be 4 digit number : \n",
      "123\n"
     ]
    }
   ],
   "source": [
    "# done = False\n",
    "\n",
    "print(\"input 4 digit pin you will like to use for your password\")\n",
    "input()\n",
    "if len(input()) != 4:\n",
    "    print(\"your pin must be 4 digit number : \")\n",
    "    input()\n",
    "else:\n",
    "    print(\"you can proceed\")\n",
    "# done==True\n",
    "\n",
    "input(\"your email\")\n"
   ]
  },
  {
   "cell_type": "code",
   "execution_count": null,
   "metadata": {},
   "outputs": [],
   "source": [
    "while len(user_input) !=4:\n",
    "    user_input=int(input(\"your 4 digit pin\")\n",
    "    if len(user_input) == 4:\n",
    "        print(\"you are welcome\")\n",
    "    else:\n",
    "        print(\"your input has to be 4 digit\")\n",
    "                   \n",
    "input(\"your email\")"
   ]
  },
  {
   "cell_type": "code",
   "execution_count": null,
   "metadata": {},
   "outputs": [],
   "source": [
    "print(puk)"
   ]
  },
  {
   "cell_type": "code",
   "execution_count": 1,
   "metadata": {},
   "outputs": [
    {
     "name": "stdout",
     "output_type": "stream",
     "text": [
      "input your 4 digit pin : 123\n",
      "input your 4 digit pin : 1123\n",
      "welcome\n",
      "input your valid email : 123\n",
      "input your valid email : makinde@yahoo.com\n",
      "good\n",
      "this is your puk number keep it save\n",
      "34437478\n",
      "please enter your 4 digit pin : 1231\n",
      "× incorrect pin please try again\n",
      "you have 3 attempt(s) left\n",
      "please enter your 4 digit pin : 1123\n",
      "✔ correctwelcome\n",
      "you can now proceed\n"
     ]
    }
   ],
   "source": [
    "while True:\n",
    "   pin = input(\"input your 4 digit pin : \")\n",
    "   if (len(pin)==4):\n",
    "       break\n",
    "print(\"welcome\")\n",
    "while True:\n",
    "    email = input('input your valid email : ')\n",
    "    b = email[::-1]\n",
    "    c = b[0:10]\n",
    "    d = 'moc.oohay@'\n",
    "    if (c == d):\n",
    "        break\n",
    "print(\"good\")\n",
    "print (\"this is your puk number keep it save\")\n",
    "from random import randrange\n",
    "for i in range(0, 8):  # produce 8 digit number\n",
    "    puk = randrange(1, 10)  # generate random number in the range 1....6\n",
    "    print(puk, end=\"\")\n",
    "print('')\n",
    "\n",
    "pin_attempts = 4\n",
    "puk_attempts = 8\n",
    "pin_count = 0\n",
    "puk_count = 0\n",
    "user_input = \" \"\n",
    "while user_input != pin and pin_count < pin_attempts:\n",
    "    user_input = input(\"please enter your 4 digit pin : \")\n",
    "    pin_count += 1\n",
    "    remaining_attempts = str(pin_attempts - pin_count)\n",
    "    if user_input == str(pin):\n",
    "        print(\"✔ correct\" \"welcome\")\n",
    "        break\n",
    "    elif user_input != pin and pin_count < pin_attempts:\n",
    "        print(\"× incorrect pin please try again\")\n",
    "        print(\"you have \" + remaining_attempts + \" attempt(s) left\")\n",
    "        if pin_count == 3:\n",
    "            print(\"you have 1 more chance or else you pin will be blocked😯\")\n",
    "        # else:\n",
    "\n",
    "    else:\n",
    "        print(\"your pin has been blocked!\")\n",
    " # to unblock the pin\n",
    "        while user_input != puk and puk_count < puk_attempts:\n",
    "            user_input = input(\"input your puk number\")\n",
    "            puk_count += 1\n",
    "            remaining_attempts = str(puk_attempts - puk_count)\n",
    "            if user_input == puk:\n",
    "                print(\"✔ correct\"\"your line has be unblocked\")\n",
    "                break\n",
    "            elif user_input != puk and puk_count < puk_attempts:\n",
    "                print(\"incorrect, please try again \")\n",
    "                print(\"you have \" + remaining_attempts + \"attempt(s) left\")\n",
    "                if puk_count == 7:\n",
    "                    print(\"you have 1 more chance or else you pin will be blocked😯\")\n",
    "            else:\n",
    "                print(\"your sim has been blocked\")\n",
    "\n",
    "                print(\"will you like to reset your password?\")\n",
    "                a = input()\n",
    "                c = 'yes'\n",
    "                if a == c:\n",
    "                    while True:\n",
    "                        b = (input(\"input your recovery email :\"))\n",
    "                        if b == email:\n",
    "                            print(\"input your new pin\")\n",
    "                            p = input()\n",
    "                            print(\"comfirm your new pin\")\n",
    "                            p = input()\n",
    "                            pin = str(pin.append(p))\n",
    "                            break\n",
    "                # # else:\n",
    "                #     print(\"visit the nearest branch to fix the issue\")\n",
    "print (\"you can now proceed\")"
   ]
  },
  {
   "cell_type": "code",
   "execution_count": null,
   "metadata": {},
   "outputs": [],
   "source": []
  }
 ],
 "metadata": {
  "kernelspec": {
   "display_name": "Python 3",
   "language": "python",
   "name": "python3"
  },
  "language_info": {
   "codemirror_mode": {
    "name": "ipython",
    "version": 3
   },
   "file_extension": ".py",
   "mimetype": "text/x-python",
   "name": "python",
   "nbconvert_exporter": "python",
   "pygments_lexer": "ipython3",
   "version": "3.8.8"
  }
 },
 "nbformat": 4,
 "nbformat_minor": 4
}
