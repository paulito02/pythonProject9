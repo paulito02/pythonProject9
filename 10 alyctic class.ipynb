{
 "cells": [
  {
   "cell_type": "markdown",
   "id": "a7c92c42",
   "metadata": {},
   "source": [
    "<!-- if else statement -->"
   ]
  },
  {
   "cell_type": "markdown",
   "id": "d274bb17",
   "metadata": {},
   "source": [
    "# if else elif"
   ]
  },
  {
   "cell_type": "code",
   "execution_count": 3,
   "id": "56153031",
   "metadata": {},
   "outputs": [
    {
     "name": "stdout",
     "output_type": "stream",
     "text": [
      "what is your name?paul\n",
      "what is your test score5\n",
      "what is your second test score9\n",
      "what is the score fpr ypur attendance8\n",
      "what is your exam score48\n",
      "---------------------------------------\n",
      "hellopaul, your total score is 70 and your grade is A\n"
     ]
    }
   ],
   "source": [
    "name = input(\"what is your name?\")\n",
    "test = int(input(\"what is your test score\"))\n",
    "second_test = int(input(\"what is your second test score\"))\n",
    "attendance = int(input(\"what is the score fpr ypur attendance\"))\n",
    "exam = int(input(\"what is your exam score\"))\n",
    "print(\"---------------------------------------\")\n",
    "total_score = test + second_test + attendance + exam\n",
    "\n",
    "if total_score >= 70:\n",
    "    grade=\"A\"\n",
    "elif total_score >=60:\n",
    "    grade=\"B\"\n",
    "elif total_score >=50:\n",
    "    grade=\"C\"\n",
    "elif total_score >=45:\n",
    "    grade=\"D\"\n",
    "elif total_score >=40:\n",
    "    grade=\"E\"\n",
    "else:\n",
    "    grade=\"F\"\n",
    "    \n",
    "print(f\"hello {name}, your total score is {total_score} and your grade is {grade}\")\n",
    "      \n",
    "      "
   ]
  },
  {
   "cell_type": "code",
   "execution_count": null,
   "id": "8a641db9",
   "metadata": {},
   "outputs": [],
   "source": []
  }
 ],
 "metadata": {
  "kernelspec": {
   "display_name": "Python 3",
   "language": "python",
   "name": "python3"
  },
  "language_info": {
   "codemirror_mode": {
    "name": "ipython",
    "version": 3
   },
   "file_extension": ".py",
   "mimetype": "text/x-python",
   "name": "python",
   "nbconvert_exporter": "python",
   "pygments_lexer": "ipython3",
   "version": "3.8.8"
  }
 },
 "nbformat": 4,
 "nbformat_minor": 5
}
